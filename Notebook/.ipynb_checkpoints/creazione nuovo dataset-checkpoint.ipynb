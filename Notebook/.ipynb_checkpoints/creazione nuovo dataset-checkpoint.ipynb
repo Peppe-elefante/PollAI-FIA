{
 "cells": [
  {
   "cell_type": "code",
   "execution_count": 1,
   "id": "9db930cf-2235-4201-9971-4e5df2717552",
   "metadata": {},
   "outputs": [
    {
     "name": "stdout",
     "output_type": "stream",
     "text": [
      "   eta          razza mangime  temperatura         peso  q_uova_mensili\n",
      "0   24         Sussex  Type B    33.417199  2713.508396             3.0\n",
      "1   38  Plymouth Rock  Type C    34.872130  2313.303505             5.0\n",
      "2   30        Leghorn  Type A    20.922755  2308.840657             7.0\n",
      "3    9         Sussex  Type A    33.243594  3110.881379             4.0\n",
      "4   65         Sussex  Type A    27.741185  2486.098303             7.0\n"
     ]
    }
   ],
   "source": [
    "import numpy as np\n",
    "import pandas as pd\n",
    "\n",
    "# Set sample size\n",
    "sample_size = 1000\n",
    "\n",
    "# Introduce breed-specific weight and egg production characteristics\n",
    "breeds = [\"Leghorn\", \"Rhode Island Red\", \"Sussex\", \"Plymouth Rock\"]\n",
    "feed_types = [\"Type A\", \"Type B\", \"Type C\"]\n",
    "\n",
    "# Create the dataset with patterns\n",
    "np.random.seed(42)  # For reproducibility\n",
    "\n",
    "# Generate random data for each feature\n",
    "razza = np.random.choice(breeds, size=sample_size)\n",
    "mangime = np.random.choice(feed_types, size=sample_size)\n",
    "temperatura = np.random.uniform(20, 35, size=sample_size)  # temperature in Celsius\n",
    "eta = np.random.randint(5, 75, size=sample_size)  # Age of hen in months\n",
    "\n",
    "# Initialize arrays for weight and eggs based on patterns\n",
    "peso = np.zeros(sample_size)\n",
    "q_uova_mensili = np.zeros(sample_size)\n",
    "\n",
    "# Apply patterns based on breed, feed type, and age\n",
    "for i in range(sample_size):\n",
    "    breed = razza[i]\n",
    "    feed = mangime[i]\n",
    "    age = eta[i]\n",
    "    \n",
    "    # Weight pattern (based on breed and feed type)\n",
    "    if breed == \"Leghorn\":\n",
    "        peso[i] = np.random.uniform(1500, 2500)  # Lighter weight\n",
    "    elif breed == \"Rhode Island Red\":\n",
    "        peso[i] = np.random.uniform(2500, 3500)  # Heavier weight\n",
    "    elif breed == \"Sussex\":\n",
    "        peso[i] = np.random.uniform(2000, 3000)  # Medium weight\n",
    "    else:  # Plymouth Rock\n",
    "        peso[i] = np.random.uniform(2200, 3200)\n",
    "    \n",
    "    # Adjust weight based on feed type\n",
    "    if feed == \"Type A\":\n",
    "        peso[i] += np.random.uniform(100, 300)  # Type A might lead to slightly heavier hens\n",
    "    elif feed == \"Type B\":\n",
    "        peso[i] += np.random.uniform(200, 400)  # Type B might increase weight more\n",
    "    \n",
    "    # Egg production pattern (based on age, breed, and feed type)\n",
    "    if age <= 12:\n",
    "        q_uova_mensili[i] = np.random.poisson(lam=8)  # Younger hens lay more eggs\n",
    "    elif age <= 24:\n",
    "        q_uova_mensili[i] = np.random.poisson(lam=6)  # Slightly fewer eggs\n",
    "    else:\n",
    "        q_uova_mensili[i] = np.random.poisson(lam=4)  # Older hens lay fewer eggs\n",
    "    \n",
    "    # Adjust egg production based on breed and feed type\n",
    "    if breed == \"Leghorn\":\n",
    "        q_uova_mensili[i] += np.random.randint(2, 4)  # Leghorns lay more eggs\n",
    "    elif breed == \"Rhode Island Red\":\n",
    "        q_uova_mensili[i] -= np.random.randint(0, 2)  # Fewer eggs for Rhode Island Red\n",
    "    \n",
    "    if feed == \"Type A\":\n",
    "        q_uova_mensili[i] += np.random.randint(0, 2)  # Type A feed leads to higher egg production\n",
    "    elif feed == \"Type B\":\n",
    "        q_uova_mensili[i] -= np.random.randint(0, 1)  # Type B feed results in fewer eggs\n",
    "    \n",
    "    # Temperature effect on egg production\n",
    "    if temperatura[i] < 22 or temperatura[i] > 30:\n",
    "        q_uova_mensili[i] -= np.random.randint(0, 2)  # Extreme temperatures reduce egg production\n",
    "\n",
    "# Create the DataFrame\n",
    "data = {\n",
    "    \"eta\": eta,\n",
    "    \"razza\": razza,\n",
    "    \"mangime\": mangime,\n",
    "    \"temperatura\": temperatura,\n",
    "    \"peso\": peso,\n",
    "    \"q_uova_mensili\": q_uova_mensili\n",
    "}\n",
    "\n",
    "df = pd.DataFrame(data)\n",
    "\n",
    "# Show the first few rows of the dataset\n",
    "print(df.head())"
   ]
  },
  {
   "cell_type": "code",
   "execution_count": 2,
   "id": "4ef7da58-9a55-4471-8717-99fc4e48e3de",
   "metadata": {},
   "outputs": [],
   "source": [
    "df.to_csv(\"dataset.csv\")"
   ]
  },
  {
   "cell_type": "code",
   "execution_count": null,
   "id": "e7d2e89d-0c9f-4d49-8c7c-ce04d719d514",
   "metadata": {},
   "outputs": [],
   "source": []
  }
 ],
 "metadata": {
  "kernelspec": {
   "display_name": "Python 3 (ipykernel)",
   "language": "python",
   "name": "python3"
  },
  "language_info": {
   "codemirror_mode": {
    "name": "ipython",
    "version": 3
   },
   "file_extension": ".py",
   "mimetype": "text/x-python",
   "name": "python",
   "nbconvert_exporter": "python",
   "pygments_lexer": "ipython3",
   "version": "3.12.6"
  }
 },
 "nbformat": 4,
 "nbformat_minor": 5
}
