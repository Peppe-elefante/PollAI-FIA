{
 "cells": [
  {
   "cell_type": "code",
   "execution_count": 11,
   "id": "129ace4a-4a61-4eed-af4a-41e67d474a48",
   "metadata": {},
   "outputs": [],
   "source": [
    "import pandas as pd\n",
    "import numpy as np\n",
    "\n",
    "\n",
    "np.random.seed(42)\n",
    "\n",
    "# Genera dataset sintetico\n",
    "sample_size = 0\n",
    "\n",
    "data = {\n",
    "    \"eta\": np.random.randint(5, 75, size=sample_size),  # eta gallina (in mesi)\n",
    "    \"razza\": np.random.choice([\"Leghorn\", \"Rhode Island Red\", \"Sussex\", \"Plymouth Rock\"], size=sample_size),  # razza gallina\n",
    "    \"mangime\": np.random.choice([\"Type A\", \"Type B\", \"Type C\"], size=sample_size),  # tipo mangime\n",
    "    \"temperatura\": np.random.uniform(20, 35, size=sample_size),  # temperatura in Celsius\n",
    "    \"peso\": np.random.uniform(1000, 3500, size=sample_size),  # peso (in grammi)\n",
    "    \"q_uova_mensili\": np.random.poisson(lam=5, size=sample_size) + np.random.randint(0, 3, size=sample_size)  # quantità uova mensili\n",
    "}\n",
    "\n",
    "#crea il DataFrame\n",
    "#df = pd.DataFrame(data)\n",
    "\n",
    "#Salva il dataframe come file csv\n",
    "#df.to_csv(\"dataset.csv\")"
   ]
  },
  {
   "cell_type": "code",
   "execution_count": 12,
   "id": "bd21de74-b3de-4249-b8f7-a412e5ffe553",
   "metadata": {},
   "outputs": [
    {
     "name": "stdout",
     "output_type": "stream",
     "text": [
      "   Unnamed: 0  eta          razza mangime  temperatura         peso  \\\n",
      "0           0   56        Leghorn  Type C    33.813086  2090.316323   \n",
      "1           1   19  Plymouth Rock  Type B    20.916169  1736.164399   \n",
      "2           2   65        Leghorn  Type A    24.153165  3371.133267   \n",
      "3           3   25  Plymouth Rock  Type C    32.093019  2909.014485   \n",
      "4           4   28        Leghorn  Type C    31.223895  1350.282939   \n",
      "\n",
      "   q_uova_mensili  \n",
      "0               6  \n",
      "1               6  \n",
      "2               7  \n",
      "3               3  \n",
      "4              10  \n"
     ]
    }
   ],
   "source": [
    "data = pd.read_csv(\"dataset.csv\")\n",
    "\n",
    "print(data.head())"
   ]
  },
  {
   "cell_type": "code",
   "execution_count": null,
   "id": "efae2680-8c1c-48d3-8ca8-6aa1065e03b5",
   "metadata": {},
   "outputs": [],
   "source": []
  }
 ],
 "metadata": {
  "kernelspec": {
   "display_name": "Python 3 (ipykernel)",
   "language": "python",
   "name": "python3"
  },
  "language_info": {
   "codemirror_mode": {
    "name": "ipython",
    "version": 3
   },
   "file_extension": ".py",
   "mimetype": "text/x-python",
   "name": "python",
   "nbconvert_exporter": "python",
   "pygments_lexer": "ipython3",
   "version": "3.13.0"
  }
 },
 "nbformat": 4,
 "nbformat_minor": 5
}
