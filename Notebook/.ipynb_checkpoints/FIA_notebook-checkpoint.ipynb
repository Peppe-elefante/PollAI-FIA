{
 "cells": [
  {
   "cell_type": "code",
   "execution_count": 2,
   "id": "129ace4a-4a61-4eed-af4a-41e67d474a48",
   "metadata": {},
   "outputs": [],
   "source": [
    "import pandas as pd\n",
    "import numpy as np\n",
    "\n",
    "\n",
    "np.random.seed(42)\n",
    "\n",
    "# Genera dataset sintetico\n",
    "sample_size = 300\n",
    "\n",
    "data = {\n",
    "    \"age\": np.random.randint(20, 80, size=sample_size),  # Age of hens (in weeks)\n",
    "    \"breed\": np.random.choice([\"Leghorn\", \"Rhode Island Red\", \"Sussex\", \"Plymouth Rock\"], size=sample_size),  # Hen breed\n",
    "    \"feed_type\": np.random.choice([\"Type A\", \"Type B\", \"Type C\"], size=sample_size),  # Feed type\n",
    "    \"temperature\": np.random.uniform(20, 35, size=sample_size),  # Temperature in Celsius\n",
    "    \"humidity\": np.random.uniform(30, 80, size=sample_size),  # Humidity percentage\n",
    "    \"weight\": np.random.uniform(1.5, 3.5, size=sample_size),  # Hen weight in kg\n",
    "    \"egg_count\": np.random.poisson(lam=5, size=sample_size) + np.random.randint(0, 3, size=sample_size)  # Egg count (target)\n",
    "}\n",
    "\n",
    "#crea il DataFrame\n",
    "df = pd.DataFrame(data)\n",
    "\n",
    "#Salva il dataframe come file csv\n",
    "#df.to_csv(\"dataset.csv\")"
   ]
  },
  {
   "cell_type": "code",
   "execution_count": null,
   "id": "2970e2b6-a481-4a3b-88cd-9e09f95a4788",
   "metadata": {},
   "outputs": [],
   "source": []
  }
 ],
 "metadata": {
  "kernelspec": {
   "display_name": "Python 3 (ipykernel)",
   "language": "python",
   "name": "python3"
  },
  "language_info": {
   "codemirror_mode": {
    "name": "ipython",
    "version": 3
   },
   "file_extension": ".py",
   "mimetype": "text/x-python",
   "name": "python",
   "nbconvert_exporter": "python",
   "pygments_lexer": "ipython3",
   "version": "3.12.6"
  }
 },
 "nbformat": 4,
 "nbformat_minor": 5
}
