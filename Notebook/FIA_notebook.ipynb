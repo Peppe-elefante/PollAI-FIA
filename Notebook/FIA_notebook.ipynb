{
 "cells": [
  {
   "cell_type": "code",
   "execution_count": 1,
   "id": "129ace4a-4a61-4eed-af4a-41e67d474a48",
   "metadata": {},
   "outputs": [],
   "source": [
    "import pandas as pd\n",
    "import numpy as np\n",
    "\n",
    "\n",
    "np.random.seed(42)\n",
    "\n",
    "# Genera dataset sintetico\n",
    "sample_size = 0\n",
    "\n",
    "data = {\n",
    "    \"eta\": np.random.randint(5, 75, size=sample_size),  # eta gallina (in mesi)\n",
    "    \"razza\": np.random.choice([\"Leghorn\", \"Rhode Island Red\", \"Sussex\", \"Plymouth Rock\"], size=sample_size),  # razza gallina\n",
    "    \"mangime\": np.random.choice([\"Type A\", \"Type B\", \"Type C\"], size=sample_size),  # tipo mangime\n",
    "    \"temperatura\": np.random.uniform(20, 35, size=sample_size),  # temperatura in Celsius\n",
    "    \"peso\": np.random.uniform(1000, 3500, size=sample_size),  # peso (in grammi)\n",
    "    \"q_uova_mensili\": np.random.poisson(lam=5, size=sample_size) + np.random.randint(0, 3, size=sample_size)  # quantità uova mensili\n",
    "}\n",
    "\n",
    "#crea il DataFrame\n",
    "#df = pd.DataFrame(data)\n",
    "\n",
    "#Salva il dataframe come file csv\n",
    "#df.to_csv(\"dataset.csv\")"
   ]
  },
  {
   "cell_type": "code",
   "execution_count": 2,
   "id": "bd21de74-b3de-4249-b8f7-a412e5ffe553",
   "metadata": {},
   "outputs": [
    {
     "name": "stdout",
     "output_type": "stream",
     "text": [
      "   Unnamed: 0  eta          razza mangime  temperatura         peso  \\\n",
      "0           0   56        Leghorn  Type C    33.813086  2090.316323   \n",
      "1           1   19  Plymouth Rock  Type B    20.916169  1736.164399   \n",
      "2           2   65        Leghorn  Type A    24.153165  3371.133267   \n",
      "3           3   25  Plymouth Rock  Type C    32.093019  2909.014485   \n",
      "4           4   28        Leghorn  Type C    31.223895  1350.282939   \n",
      "\n",
      "   q_uova_mensili  \n",
      "0               6  \n",
      "1               6  \n",
      "2               7  \n",
      "3               3  \n",
      "4              10  \n"
     ]
    }
   ],
   "source": [
    "data = pd.read_csv(\"dataset.csv\")\n",
    "\n",
    "print(data.head())  #reperimento dataset"
   ]
  },
  {
   "cell_type": "code",
   "execution_count": 3,
   "id": "44f23f2e-3b53-452b-a986-1829170e3146",
   "metadata": {},
   "outputs": [
    {
     "name": "stdout",
     "output_type": "stream",
     "text": [
      "   Unnamed: 0  eta          razza  mangime  temperatura         peso  \\\n",
      "0           0   56        Leghorn        3    33.813086  2090.316323   \n",
      "1           1   19  Plymouth Rock        2    20.916169  1736.164399   \n",
      "2           2   65        Leghorn        1    24.153165  3371.133267   \n",
      "3           3   25  Plymouth Rock        3    32.093019  2909.014485   \n",
      "4           4   28        Leghorn        3    31.223895  1350.282939   \n",
      "\n",
      "   q_uova_mensili  \n",
      "0               6  \n",
      "1               6  \n",
      "2               7  \n",
      "3               3  \n",
      "4              10  \n"
     ]
    }
   ],
   "source": [
    "mangime_dict = {\"Type A\": 1, \"Type B\": 2, \"Type C\": 3}\n",
    "data[\"mangime\"] = data[\"mangime\"].map(mangime_dict)\n",
    "print(data.head())  #conversione feature categorica in feature numerica"
   ]
  },
  {
   "cell_type": "code",
   "execution_count": 4,
   "id": "bdecfbd3-048a-4deb-9ff5-80b4c7d0722b",
   "metadata": {},
   "outputs": [
    {
     "name": "stdout",
     "output_type": "stream",
     "text": [
      "   Unnamed: 0  eta  razza  mangime  temperatura         peso  q_uova_mensili\n",
      "0           0   56    1.0        3    33.813086  2090.316323               6\n",
      "1           1   19    0.0        2    20.916169  1736.164399               6\n",
      "2           2   65    1.0        1    24.153165  3371.133267               7\n",
      "3           3   25    0.0        3    32.093019  2909.014485               3\n",
      "4           4   28    1.0        3    31.223895  1350.282939              10\n"
     ]
    }
   ],
   "source": [
    "razza_dict = {\"Leghorn\": 1, \"Rhode Island Red\": 0.5, \"Sussex\": 0.7, \"Plymouth Rock\": 0}\n",
    "data[\"razza\"] = data[\"razza\"].map(razza_dict)\n",
    "print(data.head())  #conversione feature categorica in feature numerica\n"
   ]
  },
  {
   "cell_type": "code",
   "execution_count": 7,
   "id": "816cd50e-9f2a-477d-85f1-3d42033f311a",
   "metadata": {},
   "outputs": [
    {
     "ename": "ModuleNotFoundError",
     "evalue": "No module named 'sklearn'",
     "output_type": "error",
     "traceback": [
      "\u001b[1;31m---------------------------------------------------------------------------\u001b[0m",
      "\u001b[1;31mModuleNotFoundError\u001b[0m                       Traceback (most recent call last)",
      "Cell \u001b[1;32mIn[7], line 1\u001b[0m\n\u001b[1;32m----> 1\u001b[0m \u001b[38;5;28;01mfrom\u001b[39;00m\u001b[38;5;250m \u001b[39m\u001b[38;5;21;01msklearn\u001b[39;00m\u001b[38;5;21;01m.\u001b[39;00m\u001b[38;5;21;01mmodel_selection\u001b[39;00m\u001b[38;5;250m \u001b[39m\u001b[38;5;28;01mimport\u001b[39;00m train_test_split\n\u001b[0;32m      2\u001b[0m \u001b[38;5;66;03m#divisione dei dati in dati train e dati test con stratificazione\u001b[39;00m\n\u001b[0;32m      3\u001b[0m train_set, test_set \u001b[38;5;241m=\u001b[39m train_test_split(data, test_size\u001b[38;5;241m=\u001b[39m\u001b[38;5;241m0.2\u001b[39m, stratify\u001b[38;5;241m=\u001b[39mdata[\u001b[38;5;124m\"\u001b[39m\u001b[38;5;124mrazza\u001b[39m\u001b[38;5;124m\"\u001b[39m], random_state\u001b[38;5;241m=\u001b[39m\u001b[38;5;241m42\u001b[39m)\n",
      "\u001b[1;31mModuleNotFoundError\u001b[0m: No module named 'sklearn'"
     ]
    }
   ],
   "source": [
    "from sklearn.model_selection import train_test_split\n",
    "#divisione dei dati in dati train e dati test con stratificazione\n",
    "train_set, test_set = train_test_split(data, test_size=0.2, stratify=data[\"razza\"], random_state=42)"
   ]
  },
  {
   "cell_type": "code",
   "execution_count": 6,
   "id": "67562ac3-27eb-48e4-b234-925d06c67c10",
   "metadata": {},
   "outputs": [
    {
     "ename": "NameError",
     "evalue": "name 'train_set' is not defined",
     "output_type": "error",
     "traceback": [
      "\u001b[1;31m---------------------------------------------------------------------------\u001b[0m",
      "\u001b[1;31mNameError\u001b[0m                                 Traceback (most recent call last)",
      "Cell \u001b[1;32mIn[6], line 2\u001b[0m\n\u001b[0;32m      1\u001b[0m \u001b[38;5;66;03m#divisione variabili indipendente da variabile dipendente\u001b[39;00m\n\u001b[1;32m----> 2\u001b[0m x_train, y_train \u001b[38;5;241m=\u001b[39m \u001b[43mtrain_set\u001b[49m\u001b[38;5;241m.\u001b[39mdrop(columns\u001b[38;5;241m=\u001b[39m[\u001b[38;5;124m'\u001b[39m\u001b[38;5;124mq_uova_mensili\u001b[39m\u001b[38;5;124m'\u001b[39m]), train_set[\u001b[38;5;124m'\u001b[39m\u001b[38;5;124mq_uova_mensili\u001b[39m\u001b[38;5;124m'\u001b[39m]\n\u001b[0;32m      3\u001b[0m x_test, y_test \u001b[38;5;241m=\u001b[39m test_set\u001b[38;5;241m.\u001b[39mdrop(columns\u001b[38;5;241m=\u001b[39m[\u001b[38;5;124m'\u001b[39m\u001b[38;5;124mq_uova_mensili\u001b[39m\u001b[38;5;124m'\u001b[39m]), test_set[\u001b[38;5;124m'\u001b[39m\u001b[38;5;124mq_uova_mensili\u001b[39m\u001b[38;5;124m'\u001b[39m]\n",
      "\u001b[1;31mNameError\u001b[0m: name 'train_set' is not defined"
     ]
    }
   ],
   "source": [
    "#divisione variabili indipendente da variabile dipendente\n",
    "x_train, y_train = train_set.drop(columns=['q_uova_mensili']), train_set['q_uova_mensili']\n",
    "x_test, y_test = test_set.drop(columns=['q_uova_mensili']), test_set['q_uova_mensili']"
   ]
  },
  {
   "cell_type": "code",
   "execution_count": null,
   "id": "10f40d7a-02f6-44bb-81aa-3b839c1ab862",
   "metadata": {},
   "outputs": [],
   "source": [
    "#Calcolo della Varianza \n",
    "varianza = np.var(y_train)\n",
    "print(f\"la varianza è : {varianza}\")"
   ]
  },
  {
   "cell_type": "code",
   "execution_count": null,
   "id": "ae9c0c96-67a0-4d45-8213-7cafcd6bde26",
   "metadata": {},
   "outputs": [],
   "source": [
    "from sklearn.linear_model import LogisticRegression\n",
    "#creazione modello di regressione multinomiale\n",
    "model = LogisticRegression(multi_class='multinomial', solver='lbfgs', max_iter=1000)\n",
    "#fitting del modello\n",
    "model.fit(x_train, y_train)"
   ]
  },
  {
   "cell_type": "code",
   "execution_count": null,
   "id": "77f1f26e-29cf-4194-90fd-8223b68073ba",
   "metadata": {},
   "outputs": [],
   "source": [
    "from sklearn.metrics import classification_report, accuracy_score\n",
    "\n",
    "y_train_pred = model.predict(x_train)\n",
    "y_test_pred = model.predict(x_test)"
   ]
  },
  {
   "cell_type": "code",
   "execution_count": null,
   "id": "285af9a1-ad72-4af8-b8cb-48465d06326e",
   "metadata": {},
   "outputs": [],
   "source": [
    "from sklearn.metrics import mean_squared_error\n",
    "\n",
    "mse_test = mean_squared_error(y_test, y_test_pred)\n",
    "\n",
    "print(f\"Mean Squared Error: {mse_test}\")"
   ]
  },
  {
   "cell_type": "code",
   "execution_count": null,
   "id": "4783f89d-83a9-4ba6-acab-4086ef03138c",
   "metadata": {},
   "outputs": [],
   "source": []
  }
 ],
 "metadata": {
  "kernelspec": {
   "display_name": "Python 3 (ipykernel)",
   "language": "python",
   "name": "python3"
  },
  "language_info": {
   "codemirror_mode": {
    "name": "ipython",
    "version": 3
   },
   "file_extension": ".py",
   "mimetype": "text/x-python",
   "name": "python",
   "nbconvert_exporter": "python",
   "pygments_lexer": "ipython3",
   "version": "3.13.0"
  }
 },
 "nbformat": 4,
 "nbformat_minor": 5
}
